{
 "cells": [
  {
   "cell_type": "markdown",
   "metadata": {
    "pycharm": {}
   },
   "source": [
    "# Armis Data Hack Challenge - Solution Example"
   ]
  },
  {
   "cell_type": "markdown",
   "metadata": {
    "pycharm": {}
   },
   "source": [
    "In this example we will detect anomalies on each network using Elliptic Envelope Algorithm. As this is only an example, our feature set will consist of only five features: unique hosts count, unique port count and total packets transferred. <br>\n",
    "Let's start :)"
   ]
  },
  {
   "cell_type": "markdown",
   "metadata": {
    "pycharm": {}
   },
   "source": [
    "# Imports and Consts"
   ]
  },
  {
   "cell_type": "code",
   "execution_count": 1,
   "metadata": {
    "pycharm": {}
   },
   "outputs": [],
   "source": [
    "import pandas as pd\n",
    "import datetime"
   ]
  },
  {
   "cell_type": "code",
   "execution_count": 2,
   "metadata": {
    "pycharm": {}
   },
   "outputs": [],
   "source": [
    "DEVICES_PATH = \"all_devices.csv\"\n",
    "SESSIONS_PATH = \"all_sessions.csv\""
   ]
  },
  {
   "cell_type": "markdown",
   "metadata": {
    "pycharm": {}
   },
   "source": [
    "## Read the data"
   ]
  },
  {
   "cell_type": "code",
   "execution_count": 3,
   "metadata": {
    "pycharm": {}
   },
   "outputs": [
    {
     "data": {
      "text/html": [
       "<div>\n",
       "<style scoped>\n",
       "    .dataframe tbody tr th:only-of-type {\n",
       "        vertical-align: middle;\n",
       "    }\n",
       "\n",
       "    .dataframe tbody tr th {\n",
       "        vertical-align: top;\n",
       "    }\n",
       "\n",
       "    .dataframe thead th {\n",
       "        text-align: right;\n",
       "    }\n",
       "</style>\n",
       "<table border=\"1\" class=\"dataframe\">\n",
       "  <thead>\n",
       "    <tr style=\"text-align: right;\">\n",
       "      <th></th>\n",
       "      <th>Unnamed: 0</th>\n",
       "      <th>network_id</th>\n",
       "      <th>device_id</th>\n",
       "      <th>type</th>\n",
       "      <th>model</th>\n",
       "      <th>manufacturer</th>\n",
       "      <th>operating_system</th>\n",
       "      <th>operating_system_version</th>\n",
       "    </tr>\n",
       "  </thead>\n",
       "  <tbody>\n",
       "    <tr>\n",
       "      <th>0</th>\n",
       "      <td>113</td>\n",
       "      <td>0</td>\n",
       "      <td>1028623</td>\n",
       "      <td>MOBILE_PHONE</td>\n",
       "      <td>Galaxy S8</td>\n",
       "      <td>Samsung</td>\n",
       "      <td>Android</td>\n",
       "      <td>9</td>\n",
       "    </tr>\n",
       "    <tr>\n",
       "      <th>1</th>\n",
       "      <td>587</td>\n",
       "      <td>0</td>\n",
       "      <td>48047</td>\n",
       "      <td>MOBILE_PHONE</td>\n",
       "      <td>Galaxy Note 8</td>\n",
       "      <td>Samsung</td>\n",
       "      <td>Android</td>\n",
       "      <td>9</td>\n",
       "    </tr>\n",
       "    <tr>\n",
       "      <th>2</th>\n",
       "      <td>668</td>\n",
       "      <td>0</td>\n",
       "      <td>123568</td>\n",
       "      <td>MOBILE_PHONE</td>\n",
       "      <td>H918</td>\n",
       "      <td>LG Electronics</td>\n",
       "      <td>Android</td>\n",
       "      <td>8.0.0</td>\n",
       "    </tr>\n",
       "    <tr>\n",
       "      <th>3</th>\n",
       "      <td>830</td>\n",
       "      <td>0</td>\n",
       "      <td>95366</td>\n",
       "      <td>MOBILE_PHONE</td>\n",
       "      <td>iPhone 6</td>\n",
       "      <td>Apple, Inc.</td>\n",
       "      <td>iOS</td>\n",
       "      <td>NaN</td>\n",
       "    </tr>\n",
       "    <tr>\n",
       "      <th>4</th>\n",
       "      <td>886</td>\n",
       "      <td>0</td>\n",
       "      <td>1755023</td>\n",
       "      <td>TABLET</td>\n",
       "      <td>iPad</td>\n",
       "      <td>Apple</td>\n",
       "      <td>iOS</td>\n",
       "      <td>NaN</td>\n",
       "    </tr>\n",
       "  </tbody>\n",
       "</table>\n",
       "</div>"
      ],
      "text/plain": [
       "   Unnamed: 0  network_id  device_id          type          model  \\\n",
       "0         113           0    1028623  MOBILE_PHONE      Galaxy S8   \n",
       "1         587           0      48047  MOBILE_PHONE  Galaxy Note 8   \n",
       "2         668           0     123568  MOBILE_PHONE           H918   \n",
       "3         830           0      95366  MOBILE_PHONE       iPhone 6   \n",
       "4         886           0    1755023        TABLET           iPad   \n",
       "\n",
       "     manufacturer operating_system operating_system_version  \n",
       "0         Samsung          Android                        9  \n",
       "1         Samsung          Android                        9  \n",
       "2  LG Electronics          Android                    8.0.0  \n",
       "3     Apple, Inc.              iOS                      NaN  \n",
       "4           Apple              iOS                      NaN  "
      ]
     },
     "execution_count": 3,
     "metadata": {},
     "output_type": "execute_result"
    }
   ],
   "source": [
    "devices = pd.read_csv(DEVICES_PATH)\n",
    "devices.head()"
   ]
  },
  {
   "cell_type": "code",
   "execution_count": 4,
   "metadata": {
    "pycharm": {}
   },
   "outputs": [
    {
     "data": {
      "text/html": [
       "<div>\n",
       "<style scoped>\n",
       "    .dataframe tbody tr th:only-of-type {\n",
       "        vertical-align: middle;\n",
       "    }\n",
       "\n",
       "    .dataframe tbody tr th {\n",
       "        vertical-align: top;\n",
       "    }\n",
       "\n",
       "    .dataframe thead th {\n",
       "        text-align: right;\n",
       "    }\n",
       "</style>\n",
       "<table border=\"1\" class=\"dataframe\">\n",
       "  <thead>\n",
       "    <tr style=\"text-align: right;\">\n",
       "      <th></th>\n",
       "      <th>Unnamed: 0</th>\n",
       "      <th>network_id</th>\n",
       "      <th>device_id</th>\n",
       "      <th>timestamp</th>\n",
       "      <th>host</th>\n",
       "      <th>host_ip</th>\n",
       "      <th>port_dst</th>\n",
       "      <th>transport_protocol</th>\n",
       "      <th>service_device_id</th>\n",
       "      <th>packets_count</th>\n",
       "      <th>...</th>\n",
       "      <th>outbound_packet_size_max</th>\n",
       "      <th>outbound_packet_size_min</th>\n",
       "      <th>outbound_packet_size_mean</th>\n",
       "      <th>outbound_packet_size_median</th>\n",
       "      <th>outbound_packet_size_stddev</th>\n",
       "      <th>inbound_packet_size_max</th>\n",
       "      <th>inbound_packet_size_min</th>\n",
       "      <th>inbound_packet_size_mean</th>\n",
       "      <th>inbound_packet_size_median</th>\n",
       "      <th>inbound_packet_size_stddev</th>\n",
       "    </tr>\n",
       "  </thead>\n",
       "  <tbody>\n",
       "    <tr>\n",
       "      <th>0</th>\n",
       "      <td>0</td>\n",
       "      <td>0</td>\n",
       "      <td>35</td>\n",
       "      <td>1565074800</td>\n",
       "      <td>ecbb92cd941972b779d18451b6f96275587941e4cf07a1...</td>\n",
       "      <td>ecbb92cd941972b779d18451b6f96275587941e4cf07a1...</td>\n",
       "      <td>49152</td>\n",
       "      <td>TCP</td>\n",
       "      <td>790889.0</td>\n",
       "      <td>260</td>\n",
       "      <td>...</td>\n",
       "      <td>93.000000</td>\n",
       "      <td>93.000000</td>\n",
       "      <td>93.000000</td>\n",
       "      <td>93.000000</td>\n",
       "      <td>0.000000</td>\n",
       "      <td>312.6</td>\n",
       "      <td>312.6</td>\n",
       "      <td>312.6</td>\n",
       "      <td>312.6</td>\n",
       "      <td>0.0</td>\n",
       "    </tr>\n",
       "    <tr>\n",
       "      <th>1</th>\n",
       "      <td>1</td>\n",
       "      <td>0</td>\n",
       "      <td>35</td>\n",
       "      <td>1565053200</td>\n",
       "      <td>90cf529b11c8f26efbb3936c7d10a5bf57c1a930603af0...</td>\n",
       "      <td>90cf529b11c8f26efbb3936c7d10a5bf57c1a930603af0...</td>\n",
       "      <td>49153</td>\n",
       "      <td>TCP</td>\n",
       "      <td>1604622.0</td>\n",
       "      <td>178</td>\n",
       "      <td>...</td>\n",
       "      <td>106.750000</td>\n",
       "      <td>93.400000</td>\n",
       "      <td>94.883333</td>\n",
       "      <td>93.000000</td>\n",
       "      <td>4.317134</td>\n",
       "      <td>318.4</td>\n",
       "      <td>318.4</td>\n",
       "      <td>318.4</td>\n",
       "      <td>318.0</td>\n",
       "      <td>0.0</td>\n",
       "    </tr>\n",
       "    <tr>\n",
       "      <th>2</th>\n",
       "      <td>2</td>\n",
       "      <td>0</td>\n",
       "      <td>57</td>\n",
       "      <td>1565082000</td>\n",
       "      <td>e16257c983f2c35d41f39d425651972fa1905e46e968d7...</td>\n",
       "      <td>d43dad76e6cef2231d2efc743e498996b40f8b13fc120b...</td>\n",
       "      <td>443</td>\n",
       "      <td>TCP</td>\n",
       "      <td>NaN</td>\n",
       "      <td>67</td>\n",
       "      <td>...</td>\n",
       "      <td>64.018182</td>\n",
       "      <td>41.000000</td>\n",
       "      <td>44.288312</td>\n",
       "      <td>41.000000</td>\n",
       "      <td>8.700055</td>\n",
       "      <td>NaN</td>\n",
       "      <td>NaN</td>\n",
       "      <td>NaN</td>\n",
       "      <td>NaN</td>\n",
       "      <td>NaN</td>\n",
       "    </tr>\n",
       "    <tr>\n",
       "      <th>3</th>\n",
       "      <td>3</td>\n",
       "      <td>0</td>\n",
       "      <td>57</td>\n",
       "      <td>1565082000</td>\n",
       "      <td>1a4f860269acca6c264f00d84c4b63aad00b8f93a77250...</td>\n",
       "      <td>945e37dab8aee93dd4e650f8d17d76a3adfbc6aa70ebba...</td>\n",
       "      <td>443</td>\n",
       "      <td>TCP</td>\n",
       "      <td>NaN</td>\n",
       "      <td>45</td>\n",
       "      <td>...</td>\n",
       "      <td>226.733333</td>\n",
       "      <td>133.571429</td>\n",
       "      <td>194.968236</td>\n",
       "      <td>209.000000</td>\n",
       "      <td>41.777266</td>\n",
       "      <td>NaN</td>\n",
       "      <td>NaN</td>\n",
       "      <td>NaN</td>\n",
       "      <td>NaN</td>\n",
       "      <td>NaN</td>\n",
       "    </tr>\n",
       "    <tr>\n",
       "      <th>4</th>\n",
       "      <td>4</td>\n",
       "      <td>0</td>\n",
       "      <td>57</td>\n",
       "      <td>1565082000</td>\n",
       "      <td>df106cbe1ba4a700c00ec8883490f40a8afdb75c15a9ea...</td>\n",
       "      <td>4b43e85e630c2d18a0afaa2a6366367c4fc52d32b4ba5b...</td>\n",
       "      <td>443</td>\n",
       "      <td>TCP</td>\n",
       "      <td>NaN</td>\n",
       "      <td>9</td>\n",
       "      <td>...</td>\n",
       "      <td>185.666667</td>\n",
       "      <td>185.666667</td>\n",
       "      <td>185.666667</td>\n",
       "      <td>185.666667</td>\n",
       "      <td>NaN</td>\n",
       "      <td>NaN</td>\n",
       "      <td>NaN</td>\n",
       "      <td>NaN</td>\n",
       "      <td>NaN</td>\n",
       "      <td>NaN</td>\n",
       "    </tr>\n",
       "  </tbody>\n",
       "</table>\n",
       "<p>5 rows × 38 columns</p>\n",
       "</div>"
      ],
      "text/plain": [
       "   Unnamed: 0  network_id  device_id   timestamp  \\\n",
       "0           0           0         35  1565074800   \n",
       "1           1           0         35  1565053200   \n",
       "2           2           0         57  1565082000   \n",
       "3           3           0         57  1565082000   \n",
       "4           4           0         57  1565082000   \n",
       "\n",
       "                                                host  \\\n",
       "0  ecbb92cd941972b779d18451b6f96275587941e4cf07a1...   \n",
       "1  90cf529b11c8f26efbb3936c7d10a5bf57c1a930603af0...   \n",
       "2  e16257c983f2c35d41f39d425651972fa1905e46e968d7...   \n",
       "3  1a4f860269acca6c264f00d84c4b63aad00b8f93a77250...   \n",
       "4  df106cbe1ba4a700c00ec8883490f40a8afdb75c15a9ea...   \n",
       "\n",
       "                                             host_ip  port_dst  \\\n",
       "0  ecbb92cd941972b779d18451b6f96275587941e4cf07a1...     49152   \n",
       "1  90cf529b11c8f26efbb3936c7d10a5bf57c1a930603af0...     49153   \n",
       "2  d43dad76e6cef2231d2efc743e498996b40f8b13fc120b...       443   \n",
       "3  945e37dab8aee93dd4e650f8d17d76a3adfbc6aa70ebba...       443   \n",
       "4  4b43e85e630c2d18a0afaa2a6366367c4fc52d32b4ba5b...       443   \n",
       "\n",
       "  transport_protocol  service_device_id  packets_count  ...  \\\n",
       "0                TCP           790889.0            260  ...   \n",
       "1                TCP          1604622.0            178  ...   \n",
       "2                TCP                NaN             67  ...   \n",
       "3                TCP                NaN             45  ...   \n",
       "4                TCP                NaN              9  ...   \n",
       "\n",
       "   outbound_packet_size_max  outbound_packet_size_min  \\\n",
       "0                 93.000000                 93.000000   \n",
       "1                106.750000                 93.400000   \n",
       "2                 64.018182                 41.000000   \n",
       "3                226.733333                133.571429   \n",
       "4                185.666667                185.666667   \n",
       "\n",
       "   outbound_packet_size_mean  outbound_packet_size_median  \\\n",
       "0                  93.000000                    93.000000   \n",
       "1                  94.883333                    93.000000   \n",
       "2                  44.288312                    41.000000   \n",
       "3                 194.968236                   209.000000   \n",
       "4                 185.666667                   185.666667   \n",
       "\n",
       "   outbound_packet_size_stddev  inbound_packet_size_max  \\\n",
       "0                     0.000000                    312.6   \n",
       "1                     4.317134                    318.4   \n",
       "2                     8.700055                      NaN   \n",
       "3                    41.777266                      NaN   \n",
       "4                          NaN                      NaN   \n",
       "\n",
       "   inbound_packet_size_min  inbound_packet_size_mean  \\\n",
       "0                    312.6                     312.6   \n",
       "1                    318.4                     318.4   \n",
       "2                      NaN                       NaN   \n",
       "3                      NaN                       NaN   \n",
       "4                      NaN                       NaN   \n",
       "\n",
       "   inbound_packet_size_median  inbound_packet_size_stddev  \n",
       "0                       312.6                         0.0  \n",
       "1                       318.0                         0.0  \n",
       "2                         NaN                         NaN  \n",
       "3                         NaN                         NaN  \n",
       "4                         NaN                         NaN  \n",
       "\n",
       "[5 rows x 38 columns]"
      ]
     },
     "execution_count": 4,
     "metadata": {},
     "output_type": "execute_result"
    }
   ],
   "source": [
    "sessions = pd.read_csv(SESSIONS_PATH)\n",
    "sessions.head()"
   ]
  },
  {
   "cell_type": "markdown",
   "metadata": {
    "pycharm": {}
   },
   "source": [
    "# Generate Feature Set"
   ]
  },
  {
   "cell_type": "markdown",
   "metadata": {
    "pycharm": {}
   },
   "source": [
    "As we mentioned before we are going to select only 5 features: unique hosts count, unique port count,  total packets transferred, total inbound bytes and total outbound bytes. Lets create the feature set for each network"
   ]
  },
  {
   "cell_type": "code",
   "execution_count": 5,
   "metadata": {
    "pycharm": {}
   },
   "outputs": [],
   "source": [
    "def extract_features(df):\n",
    "    return df.groupby([\"device_id\"]).aggregate({\"host\": \"nunique\", \"port_dst\": \"nunique\", \n",
    "                                                \"packets_count\": \"sum\", \"inbound_bytes_count\": \"sum\", \n",
    "                                                \"outbound_bytes_count\": \"sum\"})\n"
   ]
  },
  {
   "cell_type": "code",
   "execution_count": 6,
   "metadata": {
    "pycharm": {}
   },
   "outputs": [],
   "source": [
    "networks_fs = []"
   ]
  },
  {
   "cell_type": "code",
   "execution_count": 7,
   "metadata": {
    "pycharm": {}
   },
   "outputs": [],
   "source": [
    "for i in range(4):\n",
    "    networks_fs.append(extract_features(sessions[sessions.network_id == i]))"
   ]
  },
  {
   "cell_type": "markdown",
   "metadata": {
    "pycharm": {}
   },
   "source": [
    "# Modeling Fun"
   ]
  },
  {
   "cell_type": "markdown",
   "metadata": {
    "pycharm": {}
   },
   "source": [
    "As we've mentioned we used the Elliptic Envelope model for our anomaly detection. We use the decision_function in order to receive the confidence and we normalize the values to values between 0 and 1."
   ]
  },
  {
   "cell_type": "code",
   "execution_count": 8,
   "metadata": {
    "pycharm": {}
   },
   "outputs": [],
   "source": [
    "from sklearn.covariance import EllipticEnvelope"
   ]
  },
  {
   "cell_type": "code",
   "execution_count": 9,
   "metadata": {
    "pycharm": {}
   },
   "outputs": [],
   "source": [
    "# We use the simple min-max normalization in order to normalize the confidence values to 0-1 range.\n",
    "# Higher score means that this device is probably more anomalous.\n",
    "def calc_normalized_decision(decision_function_result):\n",
    "    decision_function_result = -1 * decision_function_result\n",
    "    minimum = decision_function_result.min()\n",
    "    maximum = decision_function_result.max()\n",
    "    return (decision_function_result - minimum) / (maximum - minimum)"
   ]
  },
  {
   "cell_type": "code",
   "execution_count": 10,
   "metadata": {
    "pycharm": {}
   },
   "outputs": [],
   "source": [
    "def detect_anomalies(feature_set):\n",
    "    ee = EllipticEnvelope(contamination=0.05).fit(feature_set.values)\n",
    "    decision_function_result = ee.decision_function(feature_set.values)\n",
    "    feature_set[\"confidence\"] = calc_normalized_decision(decision_function_result)"
   ]
  },
  {
   "cell_type": "code",
   "execution_count": 11,
   "metadata": {
    "pycharm": {},
    "scrolled": true
   },
   "outputs": [],
   "source": [
    "for i in range(4):\n",
    "    detect_anomalies(networks_fs[i])"
   ]
  },
  {
   "cell_type": "code",
   "execution_count": 12,
   "metadata": {
    "pycharm": {}
   },
   "outputs": [],
   "source": [
    "# Remove the device_id from index and Add network id to each data set\n",
    "for i in range(4):\n",
    "    networks_fs[i].reset_index(level=0, inplace=True)\n",
    "    networks_fs[i][\"network_id\"] = 0"
   ]
  },
  {
   "cell_type": "code",
   "execution_count": 13,
   "metadata": {
    "pycharm": {}
   },
   "outputs": [
    {
     "data": {
      "text/html": [
       "<div>\n",
       "<style scoped>\n",
       "    .dataframe tbody tr th:only-of-type {\n",
       "        vertical-align: middle;\n",
       "    }\n",
       "\n",
       "    .dataframe tbody tr th {\n",
       "        vertical-align: top;\n",
       "    }\n",
       "\n",
       "    .dataframe thead th {\n",
       "        text-align: right;\n",
       "    }\n",
       "</style>\n",
       "<table border=\"1\" class=\"dataframe\">\n",
       "  <thead>\n",
       "    <tr style=\"text-align: right;\">\n",
       "      <th></th>\n",
       "      <th>network_id</th>\n",
       "      <th>device_id</th>\n",
       "      <th>confidence</th>\n",
       "    </tr>\n",
       "  </thead>\n",
       "  <tbody>\n",
       "    <tr>\n",
       "      <th>0</th>\n",
       "      <td>0</td>\n",
       "      <td>33</td>\n",
       "      <td>2.149737e-11</td>\n",
       "    </tr>\n",
       "    <tr>\n",
       "      <th>1</th>\n",
       "      <td>0</td>\n",
       "      <td>35</td>\n",
       "      <td>3.652858e-05</td>\n",
       "    </tr>\n",
       "    <tr>\n",
       "      <th>2</th>\n",
       "      <td>0</td>\n",
       "      <td>40</td>\n",
       "      <td>1.006346e-02</td>\n",
       "    </tr>\n",
       "    <tr>\n",
       "      <th>3</th>\n",
       "      <td>0</td>\n",
       "      <td>41</td>\n",
       "      <td>2.479184e-10</td>\n",
       "    </tr>\n",
       "    <tr>\n",
       "      <th>4</th>\n",
       "      <td>0</td>\n",
       "      <td>53</td>\n",
       "      <td>3.912391e-11</td>\n",
       "    </tr>\n",
       "  </tbody>\n",
       "</table>\n",
       "</div>"
      ],
      "text/plain": [
       "   network_id  device_id    confidence\n",
       "0           0         33  2.149737e-11\n",
       "1           0         35  3.652858e-05\n",
       "2           0         40  1.006346e-02\n",
       "3           0         41  2.479184e-10\n",
       "4           0         53  3.912391e-11"
      ]
     },
     "execution_count": 13,
     "metadata": {},
     "output_type": "execute_result"
    }
   ],
   "source": [
    "df_to_submit = pd.concat(networks_fs)[[\"network_id\", \"device_id\", \"confidence\"]] # The column order is important!\n",
    "df_to_submit.head()"
   ]
  },
  {
   "cell_type": "markdown",
   "metadata": {
    "pycharm": {}
   },
   "source": [
    "# Submissions"
   ]
  },
  {
   "cell_type": "markdown",
   "metadata": {
    "pycharm": {}
   },
   "source": [
    "In order to update the Leader Board you need to send a POST request to following url: \"https://leaderboard.datahack.org.il/armis/api/\". Our Leader Board receives your anomalies results in the json form of [[\"network_id\", \"device_id\", \"confidence\"]] - The order is important!"
   ]
  },
  {
   "cell_type": "code",
   "execution_count": 14,
   "metadata": {
    "pycharm": {}
   },
   "outputs": [],
   "source": [
    "arr_to_submit = df_to_submit.to_json(orient='values')"
   ]
  },
  {
   "cell_type": "code",
   "execution_count": 15,
   "metadata": {
    "pycharm": {}
   },
   "outputs": [
    {
     "name": "stdout",
     "output_type": "stream",
     "text": [
      "{'member': 'Armis-test', 'rank': 2, 'score': 0.5648161775508931}\n"
     ]
    }
   ],
   "source": [
    "from urllib import request\n",
    "import json\n",
    "\n",
    "leaderboard_name = \"armis\"\n",
    "host = \"leaderboard.datahack.org.il\"\n",
    "\n",
    "# Name of the user\n",
    "submitter = \"Armis-test\"\n",
    "\n",
    "predictions = json.loads(arr_to_submit)\n",
    "\n",
    "jsonStr = json.dumps({'submitter': submitter, 'predictions': predictions})\n",
    "data = jsonStr.encode('utf-8')\n",
    "req = request.Request(f\"https://{host}/{leaderboard_name}/api/\",\n",
    "                      headers={'Content-Type': 'application/json'},\n",
    "                      data=data)\n",
    "resp = request.urlopen(req)\n",
    "print(json.load(resp))"
   ]
  }
 ],
 "metadata": {
  "kernelspec": {
   "display_name": "Python 3",
   "language": "python",
   "name": "python3"
  },
  "language_info": {
   "codemirror_mode": {
    "name": "ipython",
    "version": 3
   },
   "file_extension": ".py",
   "mimetype": "text/x-python",
   "name": "python",
   "nbconvert_exporter": "python",
   "pygments_lexer": "ipython3",
   "version": "3.7.4"
  }
 },
 "nbformat": 4,
 "nbformat_minor": 2
}
